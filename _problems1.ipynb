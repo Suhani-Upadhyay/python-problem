{
 "cells": [
  {
   "cell_type": "code",
   "execution_count": 1,
   "id": "709fdaf2",
   "metadata": {},
   "outputs": [
    {
     "name": "stdout",
     "output_type": "stream",
     "text": [
      "Hello Python\n"
     ]
    }
   ],
   "source": [
    "# 1\n",
    "print(\"Hello Python\")"
   ]
  },
  {
   "cell_type": "code",
   "execution_count": 5,
   "id": "1cb2e915",
   "metadata": {},
   "outputs": [
    {
     "name": "stdout",
     "output_type": "stream",
     "text": [
      "enter the first number4\n",
      "enter the second number3\n",
      "sum= 7\n",
      "sub= 1\n",
      "mul= 12\n",
      "div= 1\n"
     ]
    }
   ],
   "source": [
    "num1= int(input(\"enter the first number\"))\n",
    "num2= int(input(\"enter the second number\"))\n",
    "sum=num1+num2\n",
    "sub=num1-num2\n",
    "mul=num1*num2\n",
    "div=num1//num2\n",
    "print(\"sum=\",sum)\n",
    "print(\"sub=\",sub)\n",
    "print(\"mul=\",mul)\n",
    "print(\"div=\",div)"
   ]
  },
  {
   "cell_type": "code",
   "execution_count": 12,
   "id": "87930664",
   "metadata": {},
   "outputs": [
    {
     "name": "stdout",
     "output_type": "stream",
     "text": [
      "the area of the triangle is 14.70\n"
     ]
    }
   ],
   "source": [
    "a=5\n",
    "b=6\n",
    "c=7\n",
    "s=(a+b+c)/2\n",
    "area=(s*(s-a)*(s-b)*(s-c))**0.5\n",
    "print('the area of the triangle is %0.2f'%area)"
   ]
  },
  {
   "cell_type": "code",
   "execution_count": 14,
   "id": "3bb6a88b",
   "metadata": {},
   "outputs": [
    {
     "name": "stdout",
     "output_type": "stream",
     "text": [
      "0.858643358524602\n"
     ]
    }
   ],
   "source": [
    "# wap to generate a random number\n",
    "\n",
    "# random()method ---> which generates a float number between 0 and 1\n",
    "\n",
    "import random \n",
    "n=random.random()\n",
    "print(n)"
   ]
  },
  {
   "cell_type": "code",
   "execution_count": 17,
   "id": "4e59e1a3",
   "metadata": {},
   "outputs": [
    {
     "name": "stdout",
     "output_type": "stream",
     "text": [
      "38\n"
     ]
    }
   ],
   "source": [
    "#  randint()method----> that generates an integer number within a specific range. we can pass the two\n",
    "# numbers as arguments that defines the range.\n",
    "\n",
    "import random\n",
    "\n",
    "n=random.randint(0,50)\n",
    "print(n)"
   ]
  },
  {
   "cell_type": "code",
   "execution_count": 20,
   "id": "232eac05",
   "metadata": {},
   "outputs": [
    {
     "name": "stdout",
     "output_type": "stream",
     "text": [
      "[18, 37, 47, 30, 11, 33, 28, 7, 50, 46]\n"
     ]
    }
   ],
   "source": [
    "#  randint() method ----> can be used with loop to generated a list of random numbers.\n",
    "\n",
    "import random\n",
    "\n",
    "l=[]\n",
    "for i in range(0,10):\n",
    "    n=random.randint(1,50)\n",
    "    l.append(n)\n",
    "print(l)   "
   ]
  },
  {
   "cell_type": "code",
   "execution_count": 22,
   "id": "afbf2566",
   "metadata": {},
   "outputs": [
    {
     "name": "stdout",
     "output_type": "stream",
     "text": [
      "[16, 12, 17, 32, 31, 36, 19]\n"
     ]
    }
   ],
   "source": [
    "#  sample() method----> which directly generates a list of random numbers\n",
    "\n",
    "l=random.sample(range(10,40),7)\n",
    "print(l)"
   ]
  },
  {
   "cell_type": "code",
   "execution_count": 13,
   "id": "a6fa8278",
   "metadata": {},
   "outputs": [
    {
     "name": "stdout",
     "output_type": "stream",
     "text": [
      "Enter year: 2001\n",
      "Enter month: 7\n",
      "     July 2001\n",
      "Mo Tu We Th Fr Sa Su\n",
      "                   1\n",
      " 2  3  4  5  6  7  8\n",
      " 9 10 11 12 13 14 15\n",
      "16 17 18 19 20 21 22\n",
      "23 24 25 26 27 28 29\n",
      "30 31\n",
      "\n"
     ]
    }
   ],
   "source": [
    "# wap to display calendar\n",
    "\n",
    "import calendar  \n",
    " \n",
    "year= int(input(\"Enter year: \"))  \n",
    "month= int(input(\"Enter month: \"))  \n",
    "  \n",
    "\n",
    "print(calendar.month(year,month))  "
   ]
  },
  {
   "cell_type": "code",
   "execution_count": 3,
   "id": "b3884b9b",
   "metadata": {},
   "outputs": [
    {
     "name": "stdout",
     "output_type": "stream",
     "text": [
      "Please enter value for P: 2\n",
      "Please enter value for Q: 4\n",
      "The Value of P after swapping:  4\n",
      "The Value of Q after swapping:  2\n"
     ]
    }
   ],
   "source": [
    "# wap to swap two numbers\n",
    "\n",
    "P = int( input(\"Please enter value for P: \"))  \n",
    "Q = int( input(\"Please enter value for Q: \"))  \n",
    "   \n",
    "# To Swap the values of two variables using XOR  \n",
    "P = P ^ Q  \n",
    "Q = P ^ Q  \n",
    "P = P ^ Q  \n",
    "   \n",
    "print (\"The Value of P after swapping: \", P)  \n",
    "print (\"The Value of Q after swapping: \", Q) "
   ]
  },
  {
   "cell_type": "code",
   "execution_count": 11,
   "id": "d70e4e90",
   "metadata": {},
   "outputs": [
    {
     "name": "stdout",
     "output_type": "stream",
     "text": [
      "Please enter value for P: 6\n",
      "Please enter value for Q: 7\n",
      "The Value of P after swapping:  7\n",
      "The Value of Q after swapping:  6\n"
     ]
    }
   ],
   "source": [
    "P = int( input(\"Please enter value for P: \"))  \n",
    "Q = int( input(\"Please enter value for Q: \"))  \n",
    "   \n",
    "\n",
    "# P = P + Q    \n",
    "P=P*Q\n",
    "# Q = P - Q \n",
    "Q=P//Q\n",
    "# P = P - Q \n",
    "P=P//Q\n",
    "   \n",
    "print (\"The Value of P after swapping: \", P)  \n",
    "print (\"The Value of Q after swapping: \", Q)  "
   ]
  },
  {
   "cell_type": "code",
   "execution_count": null,
   "id": "8d7e979f",
   "metadata": {},
   "outputs": [],
   "source": []
  }
 ],
 "metadata": {
  "kernelspec": {
   "display_name": "Python 3 (ipykernel)",
   "language": "python",
   "name": "python3"
  },
  "language_info": {
   "codemirror_mode": {
    "name": "ipython",
    "version": 3
   },
   "file_extension": ".py",
   "mimetype": "text/x-python",
   "name": "python",
   "nbconvert_exporter": "python",
   "pygments_lexer": "ipython3",
   "version": "3.9.12"
  }
 },
 "nbformat": 4,
 "nbformat_minor": 5
}
