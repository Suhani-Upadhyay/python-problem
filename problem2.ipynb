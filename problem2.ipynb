{
 "cells": [
  {
   "cell_type": "code",
   "execution_count": 10,
   "id": "504b65c0",
   "metadata": {},
   "outputs": [
    {
     "name": "stdout",
     "output_type": "stream",
     "text": [
      "negative number\n"
     ]
    }
   ],
   "source": [
    "# Python Program to Check if a Number is Positive, Negative or Zero\n",
    "\n",
    "\n",
    "def checkNumber(a):\n",
    "\n",
    "    if a>0:\n",
    "        print(\"positive number\")\n",
    "    elif a<0:\n",
    "        print(\"negative number\")\n",
    "    else:\n",
    "        print(\"zero\")\n",
    "    \n",
    "checkNumber(-1.5)    "
   ]
  },
  {
   "cell_type": "code",
   "execution_count": 17,
   "id": "858140be",
   "metadata": {},
   "outputs": [
    {
     "name": "stdout",
     "output_type": "stream",
     "text": [
      "Enter a number: 4\n",
      "4 is Even number\n"
     ]
    }
   ],
   "source": [
    "# Python Program to Check if a Number is Odd or Even\n",
    "\n",
    "num = int(input(\"Enter a number: \"))  \n",
    "if (num % 2) == 0:  \n",
    "    print(\"{0} is Even number\".format(num))\n",
    "else:  \n",
    "    print(\"{0} is Odd number\",num)  "
   ]
  },
  {
   "cell_type": "code",
   "execution_count": 18,
   "id": "8d5ef6ea",
   "metadata": {},
   "outputs": [
    {
     "name": "stdout",
     "output_type": "stream",
     "text": [
      "2000is a leap year\n"
     ]
    }
   ],
   "source": [
    "# Python Program to Check Leap Year\n",
    "\n",
    "year=2000\n",
    "\n",
    "if (year%400==0 or year%100!=0 and year%4==0):\n",
    "    print(\"{0} is a leap year\".format(year))\n",
    "else:\n",
    "    print(\"{0} is not a leap year\".format(year))"
   ]
  },
  {
   "cell_type": "code",
   "execution_count": null,
   "id": "f4fd7e17",
   "metadata": {},
   "outputs": [],
   "source": []
  }
 ],
 "metadata": {
  "kernelspec": {
   "display_name": "Python 3 (ipykernel)",
   "language": "python",
   "name": "python3"
  },
  "language_info": {
   "codemirror_mode": {
    "name": "ipython",
    "version": 3
   },
   "file_extension": ".py",
   "mimetype": "text/x-python",
   "name": "python",
   "nbconvert_exporter": "python",
   "pygments_lexer": "ipython3",
   "version": "3.9.12"
  }
 },
 "nbformat": 4,
 "nbformat_minor": 5
}
